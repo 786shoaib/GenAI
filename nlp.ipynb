{
 "cells": [
  {
   "cell_type": "code",
   "execution_count": 1,
   "metadata": {},
   "outputs": [],
   "source": [
    "paragraph = \"\"\"The modern Olympic Games or Olympics (French: Jeux olympiques)[a][1] are the leading international sporting events featuring summer and winter sports competitions in which thousands of athletes from around the world participate in a variety of competitions. The Olympic Games are considered the world's foremost sports competition with more than 200 teams, representing sovereign states and territories, participating. By default, the Games generally substitute for any world championships during the year in which they take place (however, each class usually maintains its own records).[2] The Olympic Games are held every four years. Since 1994, they have alternated between the Summer and Winter Olympics every two years during the four-year Olympiad.[3][4]\n",
    "\n",
    "Their creation was inspired by the ancient Olympic Games, held in Olympia, Greece from the 8th century BC to the 4th century AD. Baron Pierre de Coubertin founded the International Olympic Committee (IOC) in 1894, leading to the first modern Games in Athens in 1896. The IOC is the governing body of the Olympic Movement, which encompasses all entities and individuals involved in the Olympic Games. The Olympic Charter defines their structure and authority.\"\"\""
   ]
  },
  {
   "cell_type": "code",
   "execution_count": 2,
   "metadata": {},
   "outputs": [
    {
     "data": {
      "text/plain": [
       "\"The modern Olympic Games or Olympics (French: Jeux olympiques)[a][1] are the leading international sporting events featuring summer and winter sports competitions in which thousands of athletes from around the world participate in a variety of competitions. The Olympic Games are considered the world's foremost sports competition with more than 200 teams, representing sovereign states and territories, participating. By default, the Games generally substitute for any world championships during the year in which they take place (however, each class usually maintains its own records).[2] The Olympic Games are held every four years. Since 1994, they have alternated between the Summer and Winter Olympics every two years during the four-year Olympiad.[3][4]\\n\\nTheir creation was inspired by the ancient Olympic Games, held in Olympia, Greece from the 8th century BC to the 4th century AD. Baron Pierre de Coubertin founded the International Olympic Committee (IOC) in 1894, leading to the first modern Games in Athens in 1896. The IOC is the governing body of the Olympic Movement, which encompasses all entities and individuals involved in the Olympic Games. The Olympic Charter defines their structure and authority.\""
      ]
     },
     "execution_count": 2,
     "metadata": {},
     "output_type": "execute_result"
    }
   ],
   "source": [
    "paragraph"
   ]
  },
  {
   "cell_type": "code",
   "execution_count": 3,
   "metadata": {},
   "outputs": [],
   "source": [
    "import nltk\n",
    "from nltk.stem import PorterStemmer\n",
    "from nltk.corpus import stopwords"
   ]
  },
  {
   "cell_type": "code",
   "execution_count": 5,
   "metadata": {},
   "outputs": [
    {
     "name": "stderr",
     "output_type": "stream",
     "text": [
      "[nltk_data] Downloading package punkt to\n",
      "[nltk_data]     C:\\Users\\mohammadshoaib\\AppData\\Roaming\\nltk_data...\n",
      "[nltk_data]   Package punkt is already up-to-date!\n"
     ]
    }
   ],
   "source": [
    "# Tokensize -> convert paragraph sentence words\n",
    "nltk.download('punkt')\n",
    "sentences = nltk.sent_tokenize(paragraph)"
   ]
  },
  {
   "cell_type": "code",
   "execution_count": 6,
   "metadata": {},
   "outputs": [
    {
     "data": {
      "text/plain": [
       "['The modern Olympic Games or Olympics (French: Jeux olympiques)[a][1] are the leading international sporting events featuring summer and winter sports competitions in which thousands of athletes from around the world participate in a variety of competitions.',\n",
       " \"The Olympic Games are considered the world's foremost sports competition with more than 200 teams, representing sovereign states and territories, participating.\",\n",
       " 'By default, the Games generally substitute for any world championships during the year in which they take place (however, each class usually maintains its own records).',\n",
       " '[2] The Olympic Games are held every four years.',\n",
       " 'Since 1994, they have alternated between the Summer and Winter Olympics every two years during the four-year Olympiad.',\n",
       " '[3][4]\\n\\nTheir creation was inspired by the ancient Olympic Games, held in Olympia, Greece from the 8th century BC to the 4th century AD.',\n",
       " 'Baron Pierre de Coubertin founded the International Olympic Committee (IOC) in 1894, leading to the first modern Games in Athens in 1896.',\n",
       " 'The IOC is the governing body of the Olympic Movement, which encompasses all entities and individuals involved in the Olympic Games.',\n",
       " 'The Olympic Charter defines their structure and authority.']"
      ]
     },
     "execution_count": 6,
     "metadata": {},
     "output_type": "execute_result"
    }
   ],
   "source": [
    "senetences"
   ]
  },
  {
   "cell_type": "code",
   "execution_count": 7,
   "metadata": {},
   "outputs": [
    {
     "data": {
      "text/plain": [
       "'The modern Olympic Games or Olympics (French: Jeux olympiques)[a][1] are the leading international sporting events featuring summer and winter sports competitions in which thousands of athletes from around the world participate in a variety of competitions.'"
      ]
     },
     "execution_count": 7,
     "metadata": {},
     "output_type": "execute_result"
    }
   ],
   "source": [
    "sentences[0]"
   ]
  },
  {
   "cell_type": "code",
   "execution_count": 8,
   "metadata": {},
   "outputs": [
    {
     "data": {
      "text/plain": [
       "'walk'"
      ]
     },
     "execution_count": 8,
     "metadata": {},
     "output_type": "execute_result"
    }
   ],
   "source": [
    "stemmer = PorterStemmer()\n",
    "stemmer.stem(\"Walking\")"
   ]
  },
  {
   "cell_type": "code",
   "execution_count": 9,
   "metadata": {},
   "outputs": [],
   "source": [
    "from nltk.stem import WordNetLemmatizer"
   ]
  },
  {
   "cell_type": "code",
   "execution_count": 10,
   "metadata": {},
   "outputs": [
    {
     "data": {
      "text/plain": [
       "'histori'"
      ]
     },
     "execution_count": 10,
     "metadata": {},
     "output_type": "execute_result"
    }
   ],
   "source": [
    "lemmatizer = WordNetLemmatizer()\n",
    "stemmer.stem(\"History\")"
   ]
  },
  {
   "cell_type": "code",
   "execution_count": 16,
   "metadata": {},
   "outputs": [
    {
     "name": "stderr",
     "output_type": "stream",
     "text": [
      "[nltk_data] Downloading package wordnet to\n",
      "[nltk_data]     C:\\Users\\mohammadshoaib\\AppData\\Roaming\\nltk_data...\n",
      "[nltk_data]   Package wordnet is already up-to-date!\n"
     ]
    },
    {
     "data": {
      "text/plain": [
       "True"
      ]
     },
     "execution_count": 16,
     "metadata": {},
     "output_type": "execute_result"
    }
   ],
   "source": [
    "nltk.download('wordnet')"
   ]
  },
  {
   "cell_type": "code",
   "execution_count": 18,
   "metadata": {},
   "outputs": [
    {
     "data": {
      "text/plain": [
       "'History'"
      ]
     },
     "execution_count": 18,
     "metadata": {},
     "output_type": "execute_result"
    }
   ],
   "source": [
    "# Here if you see that using stemming history is converted to histori \n",
    "# which has no meaning and lemmatize converted the same History to history which has some meaning.\n",
    "lemmatizer.lemmatize(\"History\")"
   ]
  },
  {
   "cell_type": "code",
   "execution_count": 19,
   "metadata": {},
   "outputs": [],
   "source": [
    "import re\n",
    "corpus = []\n",
    "for i in range(len(sentences)):\n",
    "    review = re.sub('[^a-zA-Z]',' ',sentences[i])\n",
    "    review = review.lower()\n",
    "    corpus.append(review)\n",
    "    \n",
    "    "
   ]
  },
  {
   "cell_type": "code",
   "execution_count": 20,
   "metadata": {},
   "outputs": [
    {
     "data": {
      "text/plain": [
       "['the modern olympic games or olympics  french  jeux olympiques  a     are the leading international sporting events featuring summer and winter sports competitions in which thousands of athletes from around the world participate in a variety of competitions ',\n",
       " 'the olympic games are considered the world s foremost sports competition with more than     teams  representing sovereign states and territories  participating ',\n",
       " 'by default  the games generally substitute for any world championships during the year in which they take place  however  each class usually maintains its own records  ',\n",
       " '    the olympic games are held every four years ',\n",
       " 'since       they have alternated between the summer and winter olympics every two years during the four year olympiad ',\n",
       " '        their creation was inspired by the ancient olympic games  held in olympia  greece from the  th century bc to the  th century ad ',\n",
       " 'baron pierre de coubertin founded the international olympic committee  ioc  in       leading to the first modern games in athens in      ',\n",
       " 'the ioc is the governing body of the olympic movement  which encompasses all entities and individuals involved in the olympic games ',\n",
       " 'the olympic charter defines their structure and authority ']"
      ]
     },
     "execution_count": 20,
     "metadata": {},
     "output_type": "execute_result"
    }
   ],
   "source": [
    "corpus"
   ]
  },
  {
   "cell_type": "code",
   "execution_count": 22,
   "metadata": {},
   "outputs": [
    {
     "name": "stdout",
     "output_type": "stream",
     "text": [
      "modern\n",
      "olymp\n",
      "game\n",
      "olymp\n",
      "french\n",
      "jeux\n",
      "olympiqu\n",
      "lead\n",
      "intern\n",
      "sport\n",
      "event\n",
      "featur\n",
      "summer\n",
      "winter\n",
      "sport\n",
      "competit\n",
      "thousand\n",
      "athlet\n",
      "around\n",
      "world\n",
      "particip\n",
      "varieti\n",
      "competit\n",
      "olymp\n",
      "game\n",
      "consid\n",
      "world\n",
      "foremost\n",
      "sport\n",
      "competit\n",
      "team\n",
      "repres\n",
      "sovereign\n",
      "state\n",
      "territori\n",
      "particip\n",
      "default\n",
      "game\n",
      "gener\n",
      "substitut\n",
      "world\n",
      "championship\n",
      "year\n",
      "take\n",
      "place\n",
      "howev\n",
      "class\n",
      "usual\n",
      "maintain\n",
      "record\n",
      "olymp\n",
      "game\n",
      "held\n",
      "everi\n",
      "four\n",
      "year\n",
      "sinc\n",
      "altern\n",
      "summer\n",
      "winter\n",
      "olymp\n",
      "everi\n",
      "two\n",
      "year\n",
      "four\n",
      "year\n",
      "olympiad\n",
      "creation\n",
      "inspir\n",
      "ancient\n",
      "olymp\n",
      "game\n",
      "held\n",
      "olympia\n",
      "greec\n",
      "th\n",
      "centuri\n",
      "bc\n",
      "th\n",
      "centuri\n",
      "ad\n",
      "baron\n",
      "pierr\n",
      "de\n",
      "coubertin\n",
      "found\n",
      "intern\n",
      "olymp\n",
      "committe\n",
      "ioc\n",
      "lead\n",
      "first\n",
      "modern\n",
      "game\n",
      "athen\n",
      "ioc\n",
      "govern\n",
      "bodi\n",
      "olymp\n",
      "movement\n",
      "encompass\n",
      "entiti\n",
      "individu\n",
      "involv\n",
      "olymp\n",
      "game\n",
      "olymp\n",
      "charter\n",
      "defin\n",
      "structur\n",
      "author\n"
     ]
    }
   ],
   "source": [
    "for i in corpus:\n",
    "    words = nltk.word_tokenize(i)\n",
    "    for word in words:\n",
    "        if word not in set(stopwords.words('english')):\n",
    "            print(stemmer.stem(word))"
   ]
  },
  {
   "cell_type": "code",
   "execution_count": 23,
   "metadata": {},
   "outputs": [
    {
     "name": "stdout",
     "output_type": "stream",
     "text": [
      "modern\n",
      "olympic\n",
      "game\n",
      "olympics\n",
      "french\n",
      "jeux\n",
      "olympiques\n",
      "leading\n",
      "international\n",
      "sporting\n",
      "event\n",
      "featuring\n",
      "summer\n",
      "winter\n",
      "sport\n",
      "competition\n",
      "thousand\n",
      "athlete\n",
      "around\n",
      "world\n",
      "participate\n",
      "variety\n",
      "competition\n",
      "olympic\n",
      "game\n",
      "considered\n",
      "world\n",
      "foremost\n",
      "sport\n",
      "competition\n",
      "team\n",
      "representing\n",
      "sovereign\n",
      "state\n",
      "territory\n",
      "participating\n",
      "default\n",
      "game\n",
      "generally\n",
      "substitute\n",
      "world\n",
      "championship\n",
      "year\n",
      "take\n",
      "place\n",
      "however\n",
      "class\n",
      "usually\n",
      "maintains\n",
      "record\n",
      "olympic\n",
      "game\n",
      "held\n",
      "every\n",
      "four\n",
      "year\n",
      "since\n",
      "alternated\n",
      "summer\n",
      "winter\n",
      "olympics\n",
      "every\n",
      "two\n",
      "year\n",
      "four\n",
      "year\n",
      "olympiad\n",
      "creation\n",
      "inspired\n",
      "ancient\n",
      "olympic\n",
      "game\n",
      "held\n",
      "olympia\n",
      "greece\n",
      "th\n",
      "century\n",
      "bc\n",
      "th\n",
      "century\n",
      "ad\n",
      "baron\n",
      "pierre\n",
      "de\n",
      "coubertin\n",
      "founded\n",
      "international\n",
      "olympic\n",
      "committee\n",
      "ioc\n",
      "leading\n",
      "first\n",
      "modern\n",
      "game\n",
      "athens\n",
      "ioc\n",
      "governing\n",
      "body\n",
      "olympic\n",
      "movement\n",
      "encompasses\n",
      "entity\n",
      "individual\n",
      "involved\n",
      "olympic\n",
      "game\n",
      "olympic\n",
      "charter\n",
      "defines\n",
      "structure\n",
      "authority\n"
     ]
    }
   ],
   "source": [
    "for i in corpus:\n",
    "    words = nltk.word_tokenize(i)\n",
    "    for word in words:\n",
    "        if word not in set(stopwords.words('english')):\n",
    "            print(lemmatizer.lemmatize(word))"
   ]
  },
  {
   "cell_type": "code",
   "execution_count": 24,
   "metadata": {},
   "outputs": [],
   "source": [
    "from sklearn.feature_extraction.text import CountVectorizer\n",
    "cv = CountVectorizer()"
   ]
  },
  {
   "cell_type": "code",
   "execution_count": 25,
   "metadata": {},
   "outputs": [],
   "source": [
    "X = cv.fit_transform(corpus)"
   ]
  },
  {
   "cell_type": "code",
   "execution_count": 27,
   "metadata": {},
   "outputs": [
    {
     "data": {
      "text/plain": [
       "{'the': 91,\n",
       " 'modern': 61,\n",
       " 'olympic': 67,\n",
       " 'games': 43,\n",
       " 'or': 70,\n",
       " 'olympics': 68,\n",
       " 'french': 41,\n",
       " 'jeux': 58,\n",
       " 'olympiques': 69,\n",
       " 'are': 6,\n",
       " 'leading': 59,\n",
       " 'international': 53,\n",
       " 'sporting': 80,\n",
       " 'events': 33,\n",
       " 'featuring': 35,\n",
       " 'summer': 85,\n",
       " 'and': 4,\n",
       " 'winter': 101,\n",
       " 'sports': 81,\n",
       " 'competitions': 22,\n",
       " 'in': 50,\n",
       " 'which': 100,\n",
       " 'thousands': 94,\n",
       " 'of': 64,\n",
       " 'athletes': 9,\n",
       " 'from': 42,\n",
       " 'around': 7,\n",
       " 'world': 103,\n",
       " 'participate': 72,\n",
       " 'variety': 98,\n",
       " 'considered': 23,\n",
       " 'foremost': 38,\n",
       " 'competition': 21,\n",
       " 'with': 102,\n",
       " 'more': 62,\n",
       " 'than': 90,\n",
       " 'teams': 87,\n",
       " 'representing': 77,\n",
       " 'sovereign': 79,\n",
       " 'states': 82,\n",
       " 'territories': 88,\n",
       " 'participating': 73,\n",
       " 'by': 15,\n",
       " 'default': 27,\n",
       " 'generally': 44,\n",
       " 'substitute': 84,\n",
       " 'for': 37,\n",
       " 'any': 5,\n",
       " 'championships': 17,\n",
       " 'during': 29,\n",
       " 'year': 104,\n",
       " 'they': 93,\n",
       " 'take': 86,\n",
       " 'place': 75,\n",
       " 'however': 49,\n",
       " 'each': 30,\n",
       " 'class': 19,\n",
       " 'usually': 97,\n",
       " 'maintains': 60,\n",
       " 'its': 57,\n",
       " 'own': 71,\n",
       " 'records': 76,\n",
       " 'held': 48,\n",
       " 'every': 34,\n",
       " 'four': 40,\n",
       " 'years': 105,\n",
       " 'since': 78,\n",
       " 'have': 47,\n",
       " 'alternated': 2,\n",
       " 'between': 13,\n",
       " 'two': 96,\n",
       " 'olympiad': 66,\n",
       " 'their': 92,\n",
       " 'creation': 25,\n",
       " 'was': 99,\n",
       " 'inspired': 52,\n",
       " 'ancient': 3,\n",
       " 'olympia': 65,\n",
       " 'greece': 46,\n",
       " 'th': 89,\n",
       " 'century': 16,\n",
       " 'bc': 12,\n",
       " 'to': 95,\n",
       " 'ad': 0,\n",
       " 'baron': 11,\n",
       " 'pierre': 74,\n",
       " 'de': 26,\n",
       " 'coubertin': 24,\n",
       " 'founded': 39,\n",
       " 'committee': 20,\n",
       " 'ioc': 55,\n",
       " 'first': 36,\n",
       " 'athens': 8,\n",
       " 'is': 56,\n",
       " 'governing': 45,\n",
       " 'body': 14,\n",
       " 'movement': 63,\n",
       " 'encompasses': 31,\n",
       " 'all': 1,\n",
       " 'entities': 32,\n",
       " 'individuals': 51,\n",
       " 'involved': 54,\n",
       " 'charter': 18,\n",
       " 'defines': 28,\n",
       " 'structure': 83,\n",
       " 'authority': 10}"
      ]
     },
     "execution_count": 27,
     "metadata": {},
     "output_type": "execute_result"
    }
   ],
   "source": [
    "cv.vocabulary_"
   ]
  },
  {
   "cell_type": "code",
   "execution_count": 28,
   "metadata": {},
   "outputs": [
    {
     "data": {
      "text/plain": [
       "'the modern olympic games or olympics  french  jeux olympiques  a     are the leading international sporting events featuring summer and winter sports competitions in which thousands of athletes from around the world participate in a variety of competitions '"
      ]
     },
     "execution_count": 28,
     "metadata": {},
     "output_type": "execute_result"
    }
   ],
   "source": [
    "corpus[0]"
   ]
  },
  {
   "cell_type": "code",
   "execution_count": 29,
   "metadata": {},
   "outputs": [
    {
     "data": {
      "text/plain": [
       "array([[0, 0, 0, 0, 1, 0, 1, 1, 0, 1, 0, 0, 0, 0, 0, 0, 0, 0, 0, 0, 0, 0,\n",
       "        2, 0, 0, 0, 0, 0, 0, 0, 0, 0, 0, 1, 0, 1, 0, 0, 0, 0, 0, 1, 1, 1,\n",
       "        0, 0, 0, 0, 0, 0, 2, 0, 0, 1, 0, 0, 0, 0, 1, 1, 0, 1, 0, 0, 2, 0,\n",
       "        0, 1, 1, 1, 1, 0, 1, 0, 0, 0, 0, 0, 0, 0, 1, 1, 0, 0, 0, 1, 0, 0,\n",
       "        0, 0, 0, 3, 0, 0, 1, 0, 0, 0, 1, 0, 1, 1, 0, 1, 0, 0]])"
      ]
     },
     "execution_count": 29,
     "metadata": {},
     "output_type": "execute_result"
    }
   ],
   "source": [
    "X[0].toarray()"
   ]
  },
  {
   "cell_type": "code",
   "execution_count": null,
   "metadata": {},
   "outputs": [],
   "source": []
  }
 ],
 "metadata": {
  "kernelspec": {
   "display_name": "my_venv",
   "language": "python",
   "name": "python3"
  },
  "language_info": {
   "codemirror_mode": {
    "name": "ipython",
    "version": 3
   },
   "file_extension": ".py",
   "mimetype": "text/x-python",
   "name": "python",
   "nbconvert_exporter": "python",
   "pygments_lexer": "ipython3",
   "version": "3.10.4"
  }
 },
 "nbformat": 4,
 "nbformat_minor": 2
}
